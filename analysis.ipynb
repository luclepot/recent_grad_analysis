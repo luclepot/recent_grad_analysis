{
 "cells": [
  {
   "cell_type": "markdown",
   "metadata": {},
   "source": [
    "## Recent Grad Analysis\n",
    "analysis of `fivethirtyeight`'s recent graduate data, for application to the Center for Acedemic Innovation's Data Science Fellowship"
   ]
  },
  {
   "cell_type": "markdown",
   "metadata": {},
   "source": [
    "### 1. Download the Data\n",
    "We can do this from Jupyter, using the linux tool `subversion`, to grab only the folder from the repo we need:"
   ]
  },
  {
   "cell_type": "code",
   "execution_count": 14,
   "metadata": {},
   "outputs": [
    {
     "name": "stdout",
     "output_type": "stream",
     "text": [
      "A    college-majors\n",
      "A    college-majors/all-ages.csv\n",
      "A    college-majors/college-majors-rscript.R\n",
      "A    college-majors/grad-students.csv\n",
      "A    college-majors/majors-list.csv\n",
      "A    college-majors/readme.md\n",
      "A    college-majors/recent-grads.csv\n",
      "A    college-majors/women-stem.csv\n",
      "Exported revision 1092.\n"
     ]
    }
   ],
   "source": [
    "!svn export https://github.com/fivethirtyeight/data/trunk/college-majors"
   ]
  },
  {
   "cell_type": "markdown",
   "metadata": {},
   "source": [
    "we see then that our data is there:"
   ]
  },
  {
   "cell_type": "code",
   "execution_count": 16,
   "metadata": {},
   "outputs": [
    {
     "name": "stdout",
     "output_type": "stream",
     "text": [
      "total 116\r\n",
      "drwxrwxrwx 1 luclepot luclepot  4096 Sep 14 15:55 \u001b[0m\u001b[34;40m.\u001b[0m/\r\n",
      "drwxrwxrwx 1 luclepot luclepot  4096 Sep 14 15:55 \u001b[34;40m..\u001b[0m/\r\n",
      "-rwxrwxrwx 1 luclepot luclepot 17902 Feb  9  2018 \u001b[01;31mall-ages.csv\u001b[0m*\r\n",
      "-rwxrwxrwx 1 luclepot luclepot  9386 Feb  9  2018 \u001b[01;31mcollege-majors-rscript.R\u001b[0m*\r\n",
      "-rwxrwxrwx 1 luclepot luclepot 31937 Feb  9  2018 \u001b[01;31mgrad-students.csv\u001b[0m*\r\n",
      "-rwxrwxrwx 1 luclepot luclepot  8558 Feb  9  2018 \u001b[01;31mmajors-list.csv\u001b[0m*\r\n",
      "-rwxrwxrwx 1 luclepot luclepot  2634 Feb  9  2018 \u001b[01;31mreadme.md\u001b[0m*\r\n",
      "-rwxrwxrwx 1 luclepot luclepot 26872 Feb  9  2018 \u001b[01;31mrecent-grads.csv\u001b[0m*\r\n",
      "-rwxrwxrwx 1 luclepot luclepot  6445 Feb  9  2018 \u001b[01;31mwomen-stem.csv\u001b[0m*\r\n"
     ]
    }
   ],
   "source": [
    "ls -al college-majors/"
   ]
  },
  {
   "cell_type": "markdown",
   "metadata": {},
   "source": [
    "### 2. Load/Clean\n",
    "We'll use Pandas for these datasets; they're pretty much ideal to be put into DataFrames. \n",
    "\n",
    "We only really need the 'all-ages' dataset right now, but we can write a generic function to CSV data properly."
   ]
  },
  {
   "cell_type": "code",
   "execution_count": 43,
   "metadata": {},
   "outputs": [
    {
     "name": "stdout",
     "output_type": "stream",
     "text": [
      "Loading CSV file at path 'college-majors/all-ages.csv'\n"
     ]
    }
   ],
   "source": [
    "import pandas as pd\n",
    "import os\n",
    "import glob\n",
    "\n",
    "def load(path):\n",
    "    \"\"\"Notebook-specific data loading function. Will load only .csv files, glob-style, with priority \n",
    "    placed on the data folder we're focusing on ('college-majors', in this case.)\n",
    "    \n",
    "    Args:\n",
    "        path (str): glob-style string path to the file we want to load. Must match exactly one .csv file,\n",
    "            otherwise errors will happen. \n",
    "        \n",
    "    Returns:\n",
    "        pandas.DataFrame: Loaded dataframe for the selected .csv file. \n",
    "    \"\"\"\n",
    "    # we only want .csv files, add this to our pathspec if it's not there\n",
    "    if not path.endswith(\".csv\"):\n",
    "        path += \".csv\"\n",
    "    # data will always be in our college-majors directory, so check there first for the path\n",
    "    candidates = glob.glob(os.path.join(\"college-majors\", path))\n",
    "    # otherwise, check locally\n",
    "    candidates = candidates if len(candidates) > 0 else glob.glob(path)\n",
    "    # complain if we don't find anything\n",
    "    if len(candidates) < 1:\n",
    "        raise FileNotFoundError(\"No datasets found with path matching '{}'\".format(path))\n",
    "    # .. and if we find multiple datasets\n",
    "    elif len(candidates) > 1:\n",
    "        raise AttributeError(\"Multiple datasets found with path matching '{}'. Matches include: {}\".format(path, candidates))\n",
    "    # return loaded dataframe with selected path candidate\n",
    "    selected = candidates[0]\n",
    "    # helpful message, and return\n",
    "    print(\"Loading CSV file at path '{}'\".format(selected))\n",
    "    return pd.read_csv(os.path.abspath(selected))\n",
    "    \n",
    "data = load(\"all-ages\")"
   ]
  },
  {
   "cell_type": "code",
   "execution_count": 44,
   "metadata": {},
   "outputs": [
    {
     "data": {
      "text/plain": [
       "(173, 11)"
      ]
     },
     "execution_count": 44,
     "metadata": {},
     "output_type": "execute_result"
    }
   ],
   "source": [
    "data.shape"
   ]
  },
  {
   "cell_type": "code",
   "execution_count": null,
   "metadata": {},
   "outputs": [],
   "source": []
  },
  {
   "cell_type": "code",
   "execution_count": null,
   "metadata": {},
   "outputs": [],
   "source": []
  }
 ],
 "metadata": {
  "kernelspec": {
   "display_name": "Python 3",
   "language": "python",
   "name": "python3"
  },
  "language_info": {
   "codemirror_mode": {
    "name": "ipython",
    "version": 3
   },
   "file_extension": ".py",
   "mimetype": "text/x-python",
   "name": "python",
   "nbconvert_exporter": "python",
   "pygments_lexer": "ipython3",
   "version": "3.7.3"
  }
 },
 "nbformat": 4,
 "nbformat_minor": 2
}
